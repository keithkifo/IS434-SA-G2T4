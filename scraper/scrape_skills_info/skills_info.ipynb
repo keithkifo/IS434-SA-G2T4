{
 "cells": [
  {
   "cell_type": "markdown",
   "metadata": {},
   "source": [
    "# IS434: Social Analytics & Apps\n",
    "### Technical Skills and Competencies Scraper\n",
    "---"
   ]
  },
  {
   "cell_type": "code",
   "execution_count": 1,
   "metadata": {},
   "outputs": [],
   "source": [
    "import pandas as pd\n",
    "import os\n",
    "from docx2python import docx2python\n",
    "import json"
   ]
  },
  {
   "cell_type": "markdown",
   "metadata": {},
   "source": [
    "### Helper function to clean dataframe"
   ]
  },
  {
   "cell_type": "code",
   "execution_count": 2,
   "metadata": {},
   "outputs": [],
   "source": [
    "def clean_df( df ):\n",
    "    # Remove list from column 1\n",
    "    df.iloc[:, 0] = df.iloc[:, 0].apply( lambda val : \"\" if val == None else val[0] )\n",
    "\n",
    "    # Remove list for rows 1 to 5, clean the text\n",
    "    for i in range(6):\n",
    "        df.iloc[i, 1:] = df.iloc[i, 1:].apply( lambda val : \"\" if val == None else str(val[0]) )\n",
    "        df.iloc[i, 1:] = df.iloc[i, 1:].apply( lambda val : val.replace('\\t', '') if '\\t' in val else val ) \n",
    "\n",
    "    # Clean knowledge and abilities\n",
    "    for i in range(6, 8):\n",
    "        df.iloc[i, 1:] = df.iloc[i, 1:].apply( lambda row : [ elem.replace('--\\t', '') for elem in row ] )\n",
    "        df.iloc[i, 1:] = df.iloc[i, 1:].apply( lambda row : [ elem for elem in row if elem != \"\" ] )\n",
    "\n",
    "    # Clean skill level from e.g. Level 1 to L1\n",
    "    df.iloc[3, 1:] = df.iloc[3, 1:].apply( lambda skill_level : \"L\" + skill_level[-1] )\n",
    "    \n",
    "    return df"
   ]
  },
  {
   "cell_type": "code",
   "execution_count": 3,
   "metadata": {},
   "outputs": [],
   "source": [
    "def clean_unicode( string ):\n",
    "    if \"\\u2018\" in string:\n",
    "        string = string.replace(\"\\u2018\", \"\\'\")\n",
    "    if \"\\u2019\" in string:\n",
    "        string = string.replace(\"\\u2019\", \"\\'\")\n",
    "    if \"\\u201c\" in string:\n",
    "        string = string.replace(\"\\u201c\", \"\\\"\")\n",
    "    if \"\\u201d\" in string:\n",
    "        string = string.replace(\"\\u201d\", \"\\\"\")\n",
    "    if \"\\u00a0\" in string:\n",
    "        string = string.replace(\"\\u00a0\", \"\")\n",
    "    if \"\\u2013\" in string:\n",
    "        string = string.replace(\"\\u2013\", \"-\")\n",
    "    return string"
   ]
  },
  {
   "cell_type": "markdown",
   "metadata": {},
   "source": [
    "### Scraped data from the .docx"
   ]
  },
  {
   "cell_type": "code",
   "execution_count": 4,
   "metadata": {},
   "outputs": [],
   "source": [
    "scraped_data = [] "
   ]
  },
  {
   "cell_type": "code",
   "execution_count": 5,
   "metadata": {},
   "outputs": [],
   "source": [
    "# loop through all sectors\n",
    "sector_dir_list = [ dir for dir in os.listdir(\"./\") if \"_Sector\" in dir ]\n",
    "\n",
    "skill_id = 0\n",
    "for sector_dir in sector_dir_list:\n",
    "    # retrieve each sector's subfolder\n",
    "    skill_dir_list = [ dir for dir in os.listdir(f\"./{sector_dir}/\") ]\n",
    "    for skill_dir in skill_dir_list:\n",
    "        # retrieve each .docx in a subfolder\n",
    "        docx_files_list = [ docx for docx in os.listdir(f\"./{sector_dir}/{skill_dir}/\") if docx.endswith(\".docx\") ]\n",
    "\n",
    "        # scrape data from each .docx file\n",
    "        for doc_file in docx_files_list:\n",
    "            # Load the \n",
    "            doc = docx2python(f\"./{sector_dir}/{skill_dir}/{doc_file}\")\n",
    "            table = doc.body[0]\n",
    "            df = clean_df( pd.DataFrame(table) )\n",
    "\n",
    "            skill_id += 1\n",
    "\n",
    "            skill_dict = {\n",
    "                \"id\": skill_id,\n",
    "                \"category\": clean_unicode( df.at[0, 1] ),\n",
    "                \"name\": clean_unicode( df.at[1, 1] ),\n",
    "                \"description\": clean_unicode( df.at[2, 1] ),\n",
    "                \"proficiencies\": []\n",
    "            }\n",
    "\n",
    "            proficiency_id = 0\n",
    "\n",
    "            for i in range(1, 7):\n",
    "                # Ensure the skill code e.g. ICT-XX-XXXX-X.X is not empty \n",
    "                if df.at[4, i] != \"\":\n",
    "                    # Store each existing skill into skill dict\n",
    "                    knowledge_list = [ clean_unicode(knowledge) for knowledge in df.at[6, i] ]\n",
    "                    abilities_list = [ clean_unicode(ability) for ability in df.at[7, i] ]\n",
    "\n",
    "                    # Unique ID for this proficiency\n",
    "                    proficiency_id += 1\n",
    "                    skill_dict[\"proficiencies\"].append(\n",
    "                        {\n",
    "                            \"id\": proficiency_id,\n",
    "                            \"skill_id\": skill_id,\n",
    "                            \"level\": df.at[3, i],\n",
    "                            \"description\": clean_unicode( df.at[5, i] ),\n",
    "                            \"knowledge\": knowledge_list,\n",
    "                            \"abilities\": abilities_list\n",
    "                        }\n",
    "                    )\n",
    "\n",
    "            scraped_data.append( skill_dict )"
   ]
  },
  {
   "cell_type": "markdown",
   "metadata": {},
   "source": [
    "### Write output to JSON"
   ]
  },
  {
   "cell_type": "code",
   "execution_count": 6,
   "metadata": {},
   "outputs": [],
   "source": [
    "# with open('skills_info.json', 'w') as outfile:\n",
    "#     outfile.write( json.dumps( scraped_data, indent=4) )"
   ]
  },
  {
   "cell_type": "code",
   "execution_count": null,
   "metadata": {},
   "outputs": [],
   "source": [
    "with open('skills_info_with_id.json', 'w') as outfile:\n",
    "    outfile.write( json.dumps( scraped_data, indent=4) )"
   ]
  }
 ],
 "metadata": {
  "interpreter": {
   "hash": "a63b5797056bf5c56f19e340cdcac44924796f3f1abf887e1d9f6e1bcc845c52"
  },
  "kernelspec": {
   "display_name": "Python 3 (ipykernel)",
   "language": "python",
   "name": "python3"
  },
  "language_info": {
   "codemirror_mode": {
    "name": "ipython",
    "version": 3
   },
   "file_extension": ".py",
   "mimetype": "text/x-python",
   "name": "python",
   "nbconvert_exporter": "python",
   "pygments_lexer": "ipython3",
   "version": "3.7.11"
  }
 },
 "nbformat": 4,
 "nbformat_minor": 2
}
