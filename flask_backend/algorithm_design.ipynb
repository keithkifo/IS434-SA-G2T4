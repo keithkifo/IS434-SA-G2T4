{
 "cells": [
  {
   "cell_type": "code",
   "execution_count": 4,
   "metadata": {},
   "outputs": [],
   "source": [
    "import json\n",
    "import pandas as pd\n",
    "import numpy as np\n",
    "\n",
    "# Simulated job data\n",
    "with open(\"./data/sample_track.json\", \"r\") as read_file:\n",
    "    data = json.load(read_file)\n",
    "\n",
    "# Simulated user data\n",
    "with open(\"./data/sample_user.json\", \"r\") as read_file:\n",
    "    user_skills = json.load(read_file)"
   ]
  },
  {
   "cell_type": "code",
   "execution_count": 5,
   "metadata": {},
   "outputs": [],
   "source": [
    "def calculate_skill_job_match( job ):\n",
    "    global user_skills\n",
    "\n",
    "    response_dict = {\n",
    "        \"sector\": job['sector'],\n",
    "        \"track\": job['track'],\n",
    "        \"job_role\": job['job_role'],\n",
    "        \"percentage_match\": \"\",\n",
    "        \"qualified\": {},\n",
    "        \"under_qualified\": {},\n",
    "        \"not_obtained\": {}\n",
    "    }\n",
    "\n",
    "    # Step 1: Create dataframe of job's skills and proficiency levels\n",
    "    column_names = {}\n",
    "    levels = ['L1', 'L2', 'L3', 'L4', 'L5', 'L6']\n",
    "    for skill, level in job['technical_sc'].items():\n",
    "        level_int = int(level[1])\n",
    "        for lvl in levels[:level_int]:\n",
    "            column_names[ f\"{skill} {lvl}\" ] = 1\n",
    "\n",
    "    comparison_df = pd.DataFrame( column_names, index = [ job['job_role'] ] )\n",
    "\n",
    "    # Step 2: For each job's skill, execute:\n",
    "    # PART A: Find out whether user's skills fall into scenarios 1, 2 or 3\n",
    "    # PART B: For the scenario user fell into, update the binary list that matches dataframe's column indexes\n",
    "\n",
    "    user_skill_binary = [ 0 for _ in comparison_df.columns ]\n",
    "\n",
    "    for job_skill, job_level in job['technical_sc'].items():\n",
    "        if job_skill in user_skills.keys():\n",
    "            user_level = user_skills[ job_skill ]\n",
    "\n",
    "            # Find the range of indexes in dataframe where column names match skill_level\n",
    "            job_skill_indexes = [ i for i in range( len(comparison_df.columns) ) if job_skill in comparison_df.columns[i] ]\n",
    "\n",
    "            if int( user_level[1] ) >= int( job_level[1] ):\n",
    "                # Scenario 1: User has the skill and matches proficiency level\n",
    "                response_dict['qualified'][ job_skill ] = job_level\n",
    "\n",
    "                # Populate binary_list indexes with 1\n",
    "                for index in job_skill_indexes:\n",
    "                    user_skill_binary[index] = 1\n",
    "\n",
    "            else:\n",
    "                # Scenario 2: User has the skill but does not match proficiency level\n",
    "                response_dict['under_qualified'][ job_skill ] = {'job_level': job_level, 'user_level': user_level }\n",
    "\n",
    "                for index in job_skill_indexes:\n",
    "                    col_name = comparison_df.columns[index]\n",
    "\n",
    "                    # Populate binary_list indexes up till index where user matches\n",
    "                    if int( user_level[1] ) >= int( col_name[-1:] ):\n",
    "                        user_skill_binary[index] = 1\n",
    "        else:\n",
    "            # Scenario 3: User does not have the skill\n",
    "            response_dict['not_obtained'][ job_skill ] = job_level\n",
    "\n",
    "    # Step 3: (1) Append binary list to dataframe and (2) Calculate dot product\n",
    "    comparison_df.loc[ comparison_df.shape[0] ] = user_skill_binary\n",
    "    dot_product = np.dot( comparison_df.iloc[0], comparison_df.iloc[1] )\n",
    "\n",
    "    # Step 4: Calculate percentage of skill match\n",
    "    response_dict['percentage_match'] = round( dot_product / comparison_df.shape[1], 4)\n",
    "\n",
    "    return response_dict"
   ]
  },
  {
   "cell_type": "code",
   "execution_count": 6,
   "metadata": {},
   "outputs": [],
   "source": [
    "# Craft JSON response - sort by percentage_match\n",
    "jobs_match = []\n",
    "for job in data:\n",
    "    jobs_match.append( calculate_skill_job_match(job) )\n",
    "\n",
    "response = sorted(jobs_match, key = lambda skill : skill['percentage_match'], reverse=True)\n",
    "\n",
    "with open('sample_response.json', 'w') as outfile:\n",
    "    outfile.write( json.dumps( response, indent = 4) )"
   ]
  }
 ],
 "metadata": {
  "interpreter": {
   "hash": "f862bc75b8e62193b4f619840d2c1b212dd0cb55d16ea2477f843624dec14cf7"
  },
  "kernelspec": {
   "display_name": "Python 3.7.11 ('is434')",
   "language": "python",
   "name": "python3"
  },
  "language_info": {
   "codemirror_mode": {
    "name": "ipython",
    "version": 3
   },
   "file_extension": ".py",
   "mimetype": "text/x-python",
   "name": "python",
   "nbconvert_exporter": "python",
   "pygments_lexer": "ipython3",
   "version": "3.7.11"
  },
  "orig_nbformat": 4
 },
 "nbformat": 4,
 "nbformat_minor": 2
}
