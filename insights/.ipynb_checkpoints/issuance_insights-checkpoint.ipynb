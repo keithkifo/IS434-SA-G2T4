{
 "cells": [
  {
   "cell_type": "code",
   "execution_count": 2,
   "metadata": {},
   "outputs": [],
   "source": [
    "import pandas as pd\n",
    "import numpy as np\n",
    "import networkx as nx\n",
    "\n",
    "G = nx.read_gml('./graph.gml')"
   ]
  },
  {
   "cell_type": "markdown",
   "metadata": {},
   "source": [
    "### Number of nodes and edges of the network graph"
   ]
  },
  {
   "cell_type": "code",
   "execution_count": 7,
   "metadata": {},
   "outputs": [
    {
     "name": "stdout",
     "output_type": "stream",
     "text": [
      "Number of nodes: 3056\n",
      "Number of edges: 92702\n"
     ]
    }
   ],
   "source": [
    "print(f\"Number of nodes: {len(nx.nodes(G))}\")\n",
    "print(f\"Number of edges: {len(nx.edges(G))}\")"
   ]
  },
  {
   "cell_type": "markdown",
   "metadata": {},
   "source": [
    "### Network Density"
   ]
  },
  {
   "cell_type": "code",
   "execution_count": 5,
   "metadata": {
    "scrolled": true
   },
   "outputs": [
    {
     "name": "stdout",
     "output_type": "stream",
     "text": [
      "0.01985887010394084\n"
     ]
    }
   ],
   "source": [
    "print(nx.density(G))"
   ]
  },
  {
   "cell_type": "markdown",
   "metadata": {},
   "source": [
    "### Isolates"
   ]
  },
  {
   "cell_type": "code",
   "execution_count": 5,
   "metadata": {},
   "outputs": [
    {
     "name": "stdout",
     "output_type": "stream",
     "text": [
      "306\n"
     ]
    }
   ],
   "source": [
    "count = 0\n",
    "for i in nx.isolates(G):\n",
    "    # print(i)\n",
    "    count += 1\n",
    "\n",
    "print(count)"
   ]
  },
  {
   "cell_type": "markdown",
   "metadata": {},
   "source": [
    "### Degree Centrality"
   ]
  },
  {
   "cell_type": "code",
   "execution_count": 11,
   "metadata": {},
   "outputs": [],
   "source": [
    "centrality = nx.degree_centrality(G)\n",
    "top_degree_centrality = sorted(centrality.items(), key = lambda x: x[1], reverse=True)\n",
    "\n",
    "degree_df = pd.DataFrame( data = {\"certificate\": [ c[0] for c in top_degree_centrality ], \"degree_centrality\": [ c[1] for c in top_degree_centrality] })"
   ]
  },
  {
   "cell_type": "code",
   "execution_count": 12,
   "metadata": {},
   "outputs": [
    {
     "name": "stdout",
     "output_type": "stream",
     "text": [
      "Top 5 certs with highest degree centrality\n"
     ]
    },
    {
     "data": {
      "text/html": [
       "<div>\n",
       "<style scoped>\n",
       "    .dataframe tbody tr th:only-of-type {\n",
       "        vertical-align: middle;\n",
       "    }\n",
       "\n",
       "    .dataframe tbody tr th {\n",
       "        vertical-align: top;\n",
       "    }\n",
       "\n",
       "    .dataframe thead th {\n",
       "        text-align: right;\n",
       "    }\n",
       "</style>\n",
       "<table border=\"1\" class=\"dataframe\">\n",
       "  <thead>\n",
       "    <tr style=\"text-align: right;\">\n",
       "      <th></th>\n",
       "      <th>certificate</th>\n",
       "      <th>degree_centrality</th>\n",
       "    </tr>\n",
       "  </thead>\n",
       "  <tbody>\n",
       "    <tr>\n",
       "      <th>0</th>\n",
       "      <td>DATA ANALYSIS FUNDAMENTALS USING MICROSOFT EXC...</td>\n",
       "      <td>0.397054</td>\n",
       "    </tr>\n",
       "    <tr>\n",
       "      <th>1</th>\n",
       "      <td>PROJECT MANAGEMENT FOR ALL</td>\n",
       "      <td>0.389525</td>\n",
       "    </tr>\n",
       "    <tr>\n",
       "      <th>2</th>\n",
       "      <td>ICAGILE - AGILE TEAM FACILITATION</td>\n",
       "      <td>0.379705</td>\n",
       "    </tr>\n",
       "    <tr>\n",
       "      <th>3</th>\n",
       "      <td>BLOCKCHAIN FOR CROSS BORDER PAYMENT</td>\n",
       "      <td>0.361702</td>\n",
       "    </tr>\n",
       "    <tr>\n",
       "      <th>4</th>\n",
       "      <td>CYBER SECURITY PROTECTION CERTIFICATE (CSPC)</td>\n",
       "      <td>0.345336</td>\n",
       "    </tr>\n",
       "  </tbody>\n",
       "</table>\n",
       "</div>"
      ],
      "text/plain": [
       "                                         certificate  degree_centrality\n",
       "0  DATA ANALYSIS FUNDAMENTALS USING MICROSOFT EXC...           0.397054\n",
       "1                         PROJECT MANAGEMENT FOR ALL           0.389525\n",
       "2                  ICAGILE - AGILE TEAM FACILITATION           0.379705\n",
       "3                BLOCKCHAIN FOR CROSS BORDER PAYMENT           0.361702\n",
       "4       CYBER SECURITY PROTECTION CERTIFICATE (CSPC)           0.345336"
      ]
     },
     "execution_count": 12,
     "metadata": {},
     "output_type": "execute_result"
    }
   ],
   "source": [
    "print(\"Top 5 certs with highest degree centrality\")\n",
    "degree_df[:5]"
   ]
  },
  {
   "cell_type": "code",
   "execution_count": 13,
   "metadata": {},
   "outputs": [
    {
     "name": "stdout",
     "output_type": "stream",
     "text": [
      "Last 5 certs with lowest degree centrality\n"
     ]
    },
    {
     "data": {
      "text/html": [
       "<div>\n",
       "<style scoped>\n",
       "    .dataframe tbody tr th:only-of-type {\n",
       "        vertical-align: middle;\n",
       "    }\n",
       "\n",
       "    .dataframe tbody tr th {\n",
       "        vertical-align: top;\n",
       "    }\n",
       "\n",
       "    .dataframe thead th {\n",
       "        text-align: right;\n",
       "    }\n",
       "</style>\n",
       "<table border=\"1\" class=\"dataframe\">\n",
       "  <thead>\n",
       "    <tr style=\"text-align: right;\">\n",
       "      <th></th>\n",
       "      <th>certificate</th>\n",
       "      <th>degree_centrality</th>\n",
       "    </tr>\n",
       "  </thead>\n",
       "  <tbody>\n",
       "    <tr>\n",
       "      <th>3051</th>\n",
       "      <td>Housekeeping Operation (Outpatient)</td>\n",
       "      <td>0.0</td>\n",
       "    </tr>\n",
       "    <tr>\n",
       "      <th>3052</th>\n",
       "      <td>Practical Business Finance for Engineering and...</td>\n",
       "      <td>0.0</td>\n",
       "    </tr>\n",
       "    <tr>\n",
       "      <th>3053</th>\n",
       "      <td>Advanced Diploma in Logistics and Supply Chain...</td>\n",
       "      <td>0.0</td>\n",
       "    </tr>\n",
       "    <tr>\n",
       "      <th>3054</th>\n",
       "      <td>Preparatory Course for Undergraduate Physics</td>\n",
       "      <td>0.0</td>\n",
       "    </tr>\n",
       "    <tr>\n",
       "      <th>3055</th>\n",
       "      <td>BCLS + AED Provider</td>\n",
       "      <td>0.0</td>\n",
       "    </tr>\n",
       "  </tbody>\n",
       "</table>\n",
       "</div>"
      ],
      "text/plain": [
       "                                            certificate  degree_centrality\n",
       "3051                Housekeeping Operation (Outpatient)                0.0\n",
       "3052  Practical Business Finance for Engineering and...                0.0\n",
       "3053  Advanced Diploma in Logistics and Supply Chain...                0.0\n",
       "3054       Preparatory Course for Undergraduate Physics                0.0\n",
       "3055                                BCLS + AED Provider                0.0"
      ]
     },
     "execution_count": 13,
     "metadata": {},
     "output_type": "execute_result"
    }
   ],
   "source": [
    "print(\"Last 5 certs with lowest degree centrality\")\n",
    "degree_df[-5:]"
   ]
  },
  {
   "cell_type": "markdown",
   "metadata": {},
   "source": [
    "### Betweenness Centrality"
   ]
  },
  {
   "cell_type": "code",
   "execution_count": 10,
   "metadata": {
    "scrolled": true
   },
   "outputs": [
    {
     "name": "stdout",
     "output_type": "stream",
     "text": [
      "Nodes with High Betweeness Centrality\n",
      "\n"
     ]
    },
    {
     "data": {
      "text/html": [
       "<div>\n",
       "<style scoped>\n",
       "    .dataframe tbody tr th:only-of-type {\n",
       "        vertical-align: middle;\n",
       "    }\n",
       "\n",
       "    .dataframe tbody tr th {\n",
       "        vertical-align: top;\n",
       "    }\n",
       "\n",
       "    .dataframe thead th {\n",
       "        text-align: right;\n",
       "    }\n",
       "</style>\n",
       "<table border=\"1\" class=\"dataframe\">\n",
       "  <thead>\n",
       "    <tr style=\"text-align: right;\">\n",
       "      <th></th>\n",
       "      <th>certificate</th>\n",
       "      <th>betweenness</th>\n",
       "    </tr>\n",
       "  </thead>\n",
       "  <tbody>\n",
       "    <tr>\n",
       "      <th>0</th>\n",
       "      <td>DATA ANALYSIS FUNDAMENTALS USING MICROSOFT EXC...</td>\n",
       "      <td>245646.983764</td>\n",
       "    </tr>\n",
       "    <tr>\n",
       "      <th>1</th>\n",
       "      <td>PROJECT MANAGEMENT FOR ALL</td>\n",
       "      <td>199078.896099</td>\n",
       "    </tr>\n",
       "    <tr>\n",
       "      <th>2</th>\n",
       "      <td>ICAGILE - AGILE TEAM FACILITATION</td>\n",
       "      <td>185257.545378</td>\n",
       "    </tr>\n",
       "    <tr>\n",
       "      <th>3</th>\n",
       "      <td>CYBER SECURITY PROTECTION CERTIFICATE (CSPC)</td>\n",
       "      <td>141984.123965</td>\n",
       "    </tr>\n",
       "    <tr>\n",
       "      <th>4</th>\n",
       "      <td>BLOCKCHAIN FOR CROSS BORDER PAYMENT</td>\n",
       "      <td>106575.302195</td>\n",
       "    </tr>\n",
       "  </tbody>\n",
       "</table>\n",
       "</div>"
      ],
      "text/plain": [
       "                                         certificate    betweenness\n",
       "0  DATA ANALYSIS FUNDAMENTALS USING MICROSOFT EXC...  245646.983764\n",
       "1                         PROJECT MANAGEMENT FOR ALL  199078.896099\n",
       "2                  ICAGILE - AGILE TEAM FACILITATION  185257.545378\n",
       "3       CYBER SECURITY PROTECTION CERTIFICATE (CSPC)  141984.123965\n",
       "4                BLOCKCHAIN FOR CROSS BORDER PAYMENT  106575.302195"
      ]
     },
     "execution_count": 10,
     "metadata": {},
     "output_type": "execute_result"
    }
   ],
   "source": [
    "# High betweenness centralities suggest that these courses were important brokers=\n",
    "print(\"Nodes with High Betweeness Centrality\")\n",
    "print()\n",
    "\n",
    "betweenness = nx.betweenness_centrality(G, normalized=False)\n",
    "top_betweenness = sorted(betweenness.items(), key = lambda x: x[1], reverse=True)\n",
    "\n",
    "between_df = pd.DataFrame( data = {\"certificate\": [ c[0] for c in top_betweenness ], \"betweenness\": [ c[1] for c in top_betweenness] })\n",
    "between_df[:5]"
   ]
  },
  {
   "cell_type": "code",
   "execution_count": 14,
   "metadata": {},
   "outputs": [
    {
     "name": "stdout",
     "output_type": "stream",
     "text": [
      "Nodes with High Betweeness Centrality\n",
      "\n"
     ]
    },
    {
     "data": {
      "text/html": [
       "<div>\n",
       "<style scoped>\n",
       "    .dataframe tbody tr th:only-of-type {\n",
       "        vertical-align: middle;\n",
       "    }\n",
       "\n",
       "    .dataframe tbody tr th {\n",
       "        vertical-align: top;\n",
       "    }\n",
       "\n",
       "    .dataframe thead th {\n",
       "        text-align: right;\n",
       "    }\n",
       "</style>\n",
       "<table border=\"1\" class=\"dataframe\">\n",
       "  <thead>\n",
       "    <tr style=\"text-align: right;\">\n",
       "      <th></th>\n",
       "      <th>certificate</th>\n",
       "      <th>betweenness</th>\n",
       "    </tr>\n",
       "  </thead>\n",
       "  <tbody>\n",
       "    <tr>\n",
       "      <th>3051</th>\n",
       "      <td>Housekeeping Operation (Outpatient)</td>\n",
       "      <td>0.0</td>\n",
       "    </tr>\n",
       "    <tr>\n",
       "      <th>3052</th>\n",
       "      <td>Practical Business Finance for Engineering and...</td>\n",
       "      <td>0.0</td>\n",
       "    </tr>\n",
       "    <tr>\n",
       "      <th>3053</th>\n",
       "      <td>Advanced Diploma in Logistics and Supply Chain...</td>\n",
       "      <td>0.0</td>\n",
       "    </tr>\n",
       "    <tr>\n",
       "      <th>3054</th>\n",
       "      <td>Preparatory Course for Undergraduate Physics</td>\n",
       "      <td>0.0</td>\n",
       "    </tr>\n",
       "    <tr>\n",
       "      <th>3055</th>\n",
       "      <td>BCLS + AED Provider</td>\n",
       "      <td>0.0</td>\n",
       "    </tr>\n",
       "  </tbody>\n",
       "</table>\n",
       "</div>"
      ],
      "text/plain": [
       "                                            certificate  betweenness\n",
       "3051                Housekeeping Operation (Outpatient)          0.0\n",
       "3052  Practical Business Finance for Engineering and...          0.0\n",
       "3053  Advanced Diploma in Logistics and Supply Chain...          0.0\n",
       "3054       Preparatory Course for Undergraduate Physics          0.0\n",
       "3055                                BCLS + AED Provider          0.0"
      ]
     },
     "execution_count": 14,
     "metadata": {},
     "output_type": "execute_result"
    }
   ],
   "source": [
    "print(\"Nodes with High Betweeness Centrality\")\n",
    "print()\n",
    "\n",
    "between_df[-5:]"
   ]
  },
  {
   "cell_type": "markdown",
   "metadata": {},
   "source": [
    "### Looking at certs with 0 betweenness centrality but are still connected to other certs"
   ]
  },
  {
   "cell_type": "code",
   "execution_count": 10,
   "metadata": {},
   "outputs": [
    {
     "data": {
      "text/html": [
       "<div>\n",
       "<style scoped>\n",
       "    .dataframe tbody tr th:only-of-type {\n",
       "        vertical-align: middle;\n",
       "    }\n",
       "\n",
       "    .dataframe tbody tr th {\n",
       "        vertical-align: top;\n",
       "    }\n",
       "\n",
       "    .dataframe thead th {\n",
       "        text-align: right;\n",
       "    }\n",
       "</style>\n",
       "<table border=\"1\" class=\"dataframe\">\n",
       "  <thead>\n",
       "    <tr style=\"text-align: right;\">\n",
       "      <th></th>\n",
       "      <th>certificate</th>\n",
       "      <th>degree_centrality</th>\n",
       "      <th>betweenness</th>\n",
       "    </tr>\n",
       "  </thead>\n",
       "  <tbody>\n",
       "    <tr>\n",
       "      <th>1290</th>\n",
       "      <td>NICF - IDENTITY WITH WINDOWS SERVER (SF) (SYNC...</td>\n",
       "      <td>0.013093</td>\n",
       "      <td>0.0</td>\n",
       "    </tr>\n",
       "    <tr>\n",
       "      <th>1515</th>\n",
       "      <td>Where is the Market Heading? Macroeconomics Vi...</td>\n",
       "      <td>0.008838</td>\n",
       "      <td>0.0</td>\n",
       "    </tr>\n",
       "    <tr>\n",
       "      <th>1516</th>\n",
       "      <td>SMU-BOS Advanced Certificate in Private Banking</td>\n",
       "      <td>0.008838</td>\n",
       "      <td>0.0</td>\n",
       "    </tr>\n",
       "    <tr>\n",
       "      <th>1545</th>\n",
       "      <td>Advanced Certificate in Healthcare Management ...</td>\n",
       "      <td>0.008511</td>\n",
       "      <td>0.0</td>\n",
       "    </tr>\n",
       "    <tr>\n",
       "      <th>1562</th>\n",
       "      <td>SGUS APPLIED VR AND GAME SPECIALIST</td>\n",
       "      <td>0.008183</td>\n",
       "      <td>0.0</td>\n",
       "    </tr>\n",
       "    <tr>\n",
       "      <th>...</th>\n",
       "      <td>...</td>\n",
       "      <td>...</td>\n",
       "      <td>...</td>\n",
       "    </tr>\n",
       "    <tr>\n",
       "      <th>2745</th>\n",
       "      <td>Diploma in Fashion Marketing and Management</td>\n",
       "      <td>0.000327</td>\n",
       "      <td>0.0</td>\n",
       "    </tr>\n",
       "    <tr>\n",
       "      <th>2746</th>\n",
       "      <td>Neural Networks and Deep Learning</td>\n",
       "      <td>0.000327</td>\n",
       "      <td>0.0</td>\n",
       "    </tr>\n",
       "    <tr>\n",
       "      <th>2747</th>\n",
       "      <td>BUILDING CONSTRUCTION SUPEVISORS SAFETY COURSE</td>\n",
       "      <td>0.000327</td>\n",
       "      <td>0.0</td>\n",
       "    </tr>\n",
       "    <tr>\n",
       "      <th>2748</th>\n",
       "      <td>Advanced Diploma in Cyber Security</td>\n",
       "      <td>0.000327</td>\n",
       "      <td>0.0</td>\n",
       "    </tr>\n",
       "    <tr>\n",
       "      <th>2749</th>\n",
       "      <td>DIPLOMA IN INFO-COMM TECHNOLOGY</td>\n",
       "      <td>0.000327</td>\n",
       "      <td>0.0</td>\n",
       "    </tr>\n",
       "  </tbody>\n",
       "</table>\n",
       "<p>398 rows × 3 columns</p>\n",
       "</div>"
      ],
      "text/plain": [
       "                                            certificate  degree_centrality  \\\n",
       "1290  NICF - IDENTITY WITH WINDOWS SERVER (SF) (SYNC...           0.013093   \n",
       "1515  Where is the Market Heading? Macroeconomics Vi...           0.008838   \n",
       "1516    SMU-BOS Advanced Certificate in Private Banking           0.008838   \n",
       "1545  Advanced Certificate in Healthcare Management ...           0.008511   \n",
       "1562                SGUS APPLIED VR AND GAME SPECIALIST           0.008183   \n",
       "...                                                 ...                ...   \n",
       "2745        Diploma in Fashion Marketing and Management           0.000327   \n",
       "2746                  Neural Networks and Deep Learning           0.000327   \n",
       "2747     BUILDING CONSTRUCTION SUPEVISORS SAFETY COURSE           0.000327   \n",
       "2748                 Advanced Diploma in Cyber Security           0.000327   \n",
       "2749                    DIPLOMA IN INFO-COMM TECHNOLOGY           0.000327   \n",
       "\n",
       "      betweenness  \n",
       "1290          0.0  \n",
       "1515          0.0  \n",
       "1516          0.0  \n",
       "1545          0.0  \n",
       "1562          0.0  \n",
       "...           ...  \n",
       "2745          0.0  \n",
       "2746          0.0  \n",
       "2747          0.0  \n",
       "2748          0.0  \n",
       "2749          0.0  \n",
       "\n",
       "[398 rows x 3 columns]"
      ]
     },
     "execution_count": 10,
     "metadata": {},
     "output_type": "execute_result"
    }
   ],
   "source": [
    "btwn_deg_df = pd.merge(degree_df, between_df, on=\"certificate\")\n",
    "btwn_deg_df[(btwn_deg_df[\"betweenness\"] == 0) & (btwn_deg_df[\"degree_centrality\"] != 0)]"
   ]
  },
  {
   "cell_type": "markdown",
   "metadata": {},
   "source": [
    "### Modularity Classes"
   ]
  },
  {
   "cell_type": "code",
   "execution_count": 17,
   "metadata": {},
   "outputs": [],
   "source": [
    "from networkx.algorithms.community import greedy_modularity_communities\n",
    "\n",
    "classes = greedy_modularity_communities(G), key=len, reverse=True\n",
    "c = sorted()\n",
    "len(c)"
   ]
  },
  {
   "cell_type": "markdown",
   "metadata": {},
   "source": [
    "### Highest weight of edges"
   ]
  },
  {
   "cell_type": "code",
   "execution_count": 31,
   "metadata": {},
   "outputs": [
    {
     "name": "stdout",
     "output_type": "stream",
     "text": [
      "('SAFE MANAGEMENT OFFICER COURSE FOR CONSTRUCTION', 'SAFE MANAGEMENT OFFICER TRAINING', {'weight': 13317})\n",
      "('SAFE MANAGEMENT OFFICER COURSE FOR CONSTRUCTION', 'UNDERSTANDING & APPLYING WICA & WSHA', {'weight': 6562})\n",
      "('SAFE MANAGEMENT OFFICER COURSE FOR CONSTRUCTION', 'MAINTENANCE SAFETY COURSE LOCK-OUT PROCEDURES', {'weight': 5018})\n",
      "('SAFE MANAGEMENT MEASURES - PREPARING WORKPLACE FOR COVID-19', 'SAFE MANAGEMENT OFFICER COURSE FOR CONSTRUCTION', {'weight': 3878})\n",
      "('CPR(HANDS-ONLY)+AED PROVIDER', 'OCCUPATIONAL FIRST AID COURSE', {'weight': 3596})\n",
      "('CPR(HANDS-ONLY)+AED PROVIDER', 'SAFE MANAGEMENT OFFICER COURSE FOR CONSTRUCTION', {'weight': 2631})\n",
      "('OCCUPATIONAL FIRST AID COURSE', 'SAFE MANAGEMENT OFFICER COURSE FOR CONSTRUCTION', {'weight': 2586})\n",
      "('SAFE MANAGEMENT OFFICER TRAINING', 'UNDERSTANDING & APPLYING WICA & WSHA', {'weight': 2346})\n",
      "('SAFE MANAGEMENT OFFICER TRAINING', 'MAINTENANCE SAFETY COURSE LOCK-OUT PROCEDURES', {'weight': 1794})\n",
      "('BLOCKCHAIN FOR CROSS BORDER PAYMENT', 'BLOCKCHAIN FOR CORPORATE COMPLIANCE', {'weight': 1666})\n",
      "('WORKSHOP FOR CEO/TOP MANAGEMENT - E Learning', 'Safe Management Officer Training', {'weight': 1560})\n",
      "('ICAGILE - AGILE COACHING', 'ICAGILE - AGILE TEAM FACILITATION', {'weight': 1448})\n",
      "('SAFE MANAGEMENT MEASURES - PREPARING WORKPLACE FOR COVID-19', 'SAFE MANAGEMENT OFFICER TRAINING', {'weight': 1380})\n",
      "('SAFE MANAGEMENT OFFICER COURSE FOR CONSTRUCTION', 'WSH COMMITTEE MEMBERS TRAINING COURSE', {'weight': 1352})\n",
      "('DATA ANALYSIS FUNDAMENTALS USING MICROSOFT EXCEL (IBF)', 'PROJECT MANAGEMENT FOR ALL', {'weight': 1326})\n",
      "('PROJECT MANAGEMENT FOR ALL', 'ICAGILE - AGILE TEAM FACILITATION', {'weight': 1318})\n",
      "('BUSINESS', 'ACCOUNTANCY', {'weight': 1269})\n",
      "('DATA ANALYSIS FUNDAMENTALS USING MICROSOFT EXCEL (IBF)', 'BUSINESS ANALYTICS WITH QLIK SENSE', {'weight': 1206})\n",
      "('BUILD RESILIENCE AND DEVELOP SKILLS TO LEAD CHANGE', 'IMPROVING MENTAL WELLBEING AND SELF-CARE FOR A HAPPIER YOU (SYNCHRONOUS AND ASYNCHRONOUS)', {'weight': 1159})\n",
      "('BLOCKCHAIN FOR CROSS BORDER PAYMENT', 'PROJECT MANAGEMENT FOR ALL', {'weight': 1080})\n"
     ]
    }
   ],
   "source": [
    "weights = sorted(G.edges(data=True), key=lambda x: x[2]['weight'], reverse=True)\n",
    "\n",
    "count = 20\n",
    "for item in weights:\n",
    "    if item[0] != item[1] and count > 0:\n",
    "        print(item)\n",
    "        count -= 1"
   ]
  },
  {
   "cell_type": "markdown",
   "metadata": {},
   "source": [
    "### Certs connected to Data Analytics Using Power BI"
   ]
  },
  {
   "cell_type": "code",
   "execution_count": 3,
   "metadata": {},
   "outputs": [],
   "source": [
    "analytics_cluster = list( G.neighbors(\"Data Analytics Using Power BI\") )\n",
    "\n",
    "neighbours_dict = {}\n",
    "for n in analytics_cluster:\n",
    "    edge = G.get_edge_data(\"Data Analytics Using Power BI\", n)\n",
    "    neighbours_dict[n] = edge['weight']\n",
    "\n",
    "# Sort according to the edge weight\n",
    "analytics_sorted = sorted(neighbours_dict.items(), key=lambda pair: pair[1], reverse=True)"
   ]
  },
  {
   "cell_type": "code",
   "execution_count": 4,
   "metadata": {
    "scrolled": false
   },
   "outputs": [
    {
     "data": {
      "text/plain": [
       "[('Data Analytics @ Work', 58),\n",
       " ('Data Analytics Using Advanced Power BI', 43),\n",
       " ('Tableau: Unlocking Insights with Analytics', 25),\n",
       " ('DATA ANALYSIS FUNDAMENTALS USING MICROSOFT EXCEL (IBF)', 16),\n",
       " ('Data Analytics for Managers', 10)]"
      ]
     },
     "execution_count": 4,
     "metadata": {},
     "output_type": "execute_result"
    }
   ],
   "source": [
    "analytics_sorted[:5]"
   ]
  }
 ],
 "metadata": {
  "interpreter": {
   "hash": "f862bc75b8e62193b4f619840d2c1b212dd0cb55d16ea2477f843624dec14cf7"
  },
  "kernelspec": {
   "display_name": "Python 3 (ipykernel)",
   "language": "python",
   "name": "python3"
  },
  "language_info": {
   "codemirror_mode": {
    "name": "ipython",
    "version": 3
   },
   "file_extension": ".py",
   "mimetype": "text/x-python",
   "name": "python",
   "nbconvert_exporter": "python",
   "pygments_lexer": "ipython3",
   "version": "3.10.2"
  }
 },
 "nbformat": 4,
 "nbformat_minor": 2
}
